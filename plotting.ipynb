{
  "metadata": {
    "kernelspec": {
      "display_name": "ml1-arm64", 
      "name": "ml1-arm64", 
      "language": "python"
    }, 
    "language_info": {
      "mimetype": "text/x-python", 
      "nbconvert_exporter": "python", 
      "name": "python", 
      "file_extension": ".py", 
      "version": "3.9.13", 
      "pygments_lexer": "ipython3", 
      "codemirror_mode": {
        "version": 3, 
        "name": "ipython"
      }
    }, 
    "celltoolbar": "Edit Metadata"
  }, 
  "nbformat": 4, 
  "nbformat_minor": 4, 
  "cells": [
    {
      "source": [
        "# Plotting\n", 
        "\n", 
        "If you are working with data, at some point you will want to plot it. Here we introduce plotting at first through pandas, and them move on to matplotlib."
      ], 
      "cell_type": "markdown", 
      "metadata": {}
    }, 
    {
      "execution_count": 1, 
      "cell_type": "code", 
      "source": [
        "%matplotlib inline\n", 
        "import numpy as np\n", 
        "import matplotlib.pyplot as plt\n", 
        "import pandas as pd"
      ], 
      "outputs": [], 
      "metadata": {
        "hide": true
      }
    }, 
    {
      "execution_count": 3, 
      "cell_type": "code", 
      "source": [
        "combined = pd.read_csv(\"data/combined_population_votes.csv\", index_col='State')\n", 
        "combined.head(7)"
      ], 
      "outputs": [], 
      "metadata": {}
    }, 
    {
      "source": [
        "## Plotting using Pandas"
      ], 
      "cell_type": "markdown", 
      "metadata": {}
    }, 
    {
      "source": [
        "You can make simple plots very easily with pandas:"
      ], 
      "cell_type": "markdown", 
      "metadata": {}
    }, 
    {
      "source": [
        "A bar graph uses bars to compare data among different categories. Note this is the `plot` method of the Pandas `Series` object"
      ], 
      "cell_type": "markdown", 
      "metadata": {}
    }, 
    {
      "execution_count": 4, 
      "cell_type": "code", 
      "source": [
        "combined['Votes'].plot(kind=\"barh\")"
      ], 
      "outputs": [], 
      "metadata": {}
    }, 
    {
      "source": [
        "Well that isnt quite readable. Pandas plots are actually matplotlib plots, and we can use matplotlib commands to set ourselves up. Here we increase the verical size of the **current figure**, created by calling `plt.figure`. Pandas will then plot into the current figure"
      ], 
      "cell_type": "markdown", 
      "metadata": {}
    }, 
    {
      "execution_count": 5, 
      "cell_type": "code", 
      "source": [
        "plt.figure(figsize = (6, 15))\n", 
        "combined['Votes'].plot(kind=\"barh\");"
      ], 
      "outputs": [], 
      "metadata": {}
    }, 
    {
      "source": [
        "Ok, so thats better. What is happening under the hood is that a figure is created, and then the figure holds a set of axes, and these are what pandas seizes upon to do its plotting into.\n", 
        "\n", 
        "More explicitly:"
      ], 
      "cell_type": "markdown", 
      "metadata": {}
    }, 
    {
      "execution_count": 6, 
      "cell_type": "code", 
      "source": [
        "fig = plt.figure(figsize = (6, 15))\n", 
        "ax = fig.gca() # get current axes for figure\n", 
        "combined['Votes'].sort_values(ascending = True).plot(ax=ax, kind=\"barh\");"
      ], 
      "outputs": [], 
      "metadata": {}
    }, 
    {
      "source": [
        "Bar charts are not the only kind of charts pandas supports. You can do histograms as well."
      ], 
      "cell_type": "markdown", 
      "metadata": {}
    }, 
    {
      "execution_count": 7, 
      "cell_type": "code", 
      "source": [
        "combined.Votes.hist()"
      ], 
      "outputs": [], 
      "metadata": {}
    }, 
    {
      "source": [
        "## Coarse and fine grain\n", 
        "\n", 
        "Histograms depend on the binzsize, or number of bins. Here we are looking at the number of electoral votes, so you might want to see all the individual votes in states"
      ], 
      "cell_type": "markdown", 
      "metadata": {}
    }, 
    {
      "execution_count": 8, 
      "cell_type": "code", 
      "source": [
        "combined.Votes.hist(bins=np.arange(1, 60, 1, dtype='int'))"
      ], 
      "outputs": [], 
      "metadata": {}
    }, 
    {
      "source": [
        "But going down to this amount of bins, or fine-grain, often hides structure in the data. Perhaps a binning every 5 votes tells us more about which states have more power. Here you see that there are 18 stated with 20 votes, but 8 states with 10-15, and 5 states with 15 and 20 that have significant power"
      ], 
      "cell_type": "markdown", 
      "metadata": {}
    }, 
    {
      "execution_count": 9, 
      "cell_type": "code", 
      "source": [
        "combined.Votes.hist(bins=np.arange(1, 60, 5, dtype='int'));"
      ], 
      "outputs": [], 
      "metadata": {}
    }, 
    {
      "source": [
        "If you coarse grain too much, you are not getting any useful information. 40 states have upto 15 electoral votes.."
      ], 
      "cell_type": "markdown", 
      "metadata": {}
    }, 
    {
      "execution_count": 10, 
      "cell_type": "code", 
      "source": [
        "combined.Votes.hist(bins=4);"
      ], 
      "outputs": [], 
      "metadata": {}
    }, 
    {
      "source": [
        "## Plots and scatterplots in pandas\n", 
        "\n", 
        "There are many plotting routines in pandas, but let us see how to do scatter plots and line plots in pandas, as these types are the ones you encounter the most. (all options at https://pandas.pydata.org/pandas-docs/stable/user_guide/visualization.html)"
      ], 
      "cell_type": "markdown", 
      "metadata": {}
    }, 
    {
      "execution_count": 11, 
      "cell_type": "code", 
      "source": [
        "combined.sort_values('Votes').plot(x = 'Votes', y='popmills')"
      ], 
      "outputs": [], 
      "metadata": {}
    }, 
    {
      "source": [
        "A line plot is not really the right kind of plot to use for this. It makes no sense to connect these points..they are just different states. And we had to sort to make sure the lines were not all over the place.\n", 
        "\n", 
        "In these situations we actually want to use a scatter plot"
      ], 
      "cell_type": "markdown", 
      "metadata": {}
    }, 
    {
      "execution_count": 12, 
      "cell_type": "code", 
      "source": [
        "combined.plot.scatter(x = 'Votes', y='popmills')"
      ], 
      "outputs": [], 
      "metadata": {}
    }, 
    {
      "source": [
        "This gives you a much better idea of where the density of the points is. But suffers from issues of maybe these dots are too large, too dark, and there is no title. Since this is a matplotlib plot, you can combine matplotlib and pandas commands to fix this (its nice that pandas gives us axis labels). But we might as well see how to do this from scratch in matplotlib."
      ], 
      "cell_type": "markdown", 
      "metadata": {}
    }, 
    {
      "source": [
        "## Plotting with matplotlib"
      ], 
      "cell_type": "markdown", 
      "metadata": {}
    }, 
    {
      "execution_count": 13, 
      "cell_type": "code", 
      "source": [
        "fig = plt.figure(figsize = (9,6))\n", 
        "ax = fig.gca()\n", 
        "plt.scatter(combined.Votes, combined.popmills)"
      ], 
      "outputs": [], 
      "metadata": {}
    }, 
    {
      "source": [
        "But we have lost our labels. Lets put them and a title back. Lets also make the dots more transparent (`alpha`) so that the density is clearer"
      ], 
      "cell_type": "markdown", 
      "metadata": {}
    }, 
    {
      "execution_count": 14, 
      "cell_type": "code", 
      "source": [
        "fig = plt.figure(figsize = (9,6))\n", 
        "ax = fig.gca()\n", 
        "plt.scatter(combined.Votes, combined.popmills, alpha=0.3)\n", 
        "plt.xlabel(\"Electoral College Votes\")\n", 
        "plt.ylabel(\"Population (in millions)\")\n", 
        "plt.title(\"Population vs Electoral Votes amongst US States (2012)\")"
      ], 
      "outputs": [], 
      "metadata": {}
    }, 
    {
      "source": [
        "Now the density is much clearer. We can also change the axes limits to zoom in. The marker size can be reduced as well, (and made a square) though we might want to increase the alpha to compensate"
      ], 
      "cell_type": "markdown", 
      "metadata": {}
    }, 
    {
      "execution_count": 15, 
      "cell_type": "code", 
      "source": [
        "fig = plt.figure(figsize = (9,6))\n", 
        "ax = fig.gca()\n", 
        "plt.scatter(combined.Votes, combined.popmills, alpha=0.6, s=10, marker='s')\n", 
        "plt.xlabel(\"Electoral College Votes\")\n", 
        "plt.xlim((0, 35))\n", 
        "plt.ylabel(\"Population (in millions)\")\n", 
        "plt.ylim((0, 20))\n", 
        "plt.title(\"Population vs Electoral Votes amongst US States (2012)\")"
      ], 
      "outputs": [], 
      "metadata": {}
    }, 
    {
      "source": [
        "The plain matplotlib interface can be used for histograms and bar charts as well. Here we show histograms"
      ], 
      "cell_type": "markdown", 
      "metadata": {}
    }, 
    {
      "execution_count": 16, 
      "cell_type": "code", 
      "source": [
        "plt.hist(combined.popmills);"
      ], 
      "outputs": [], 
      "metadata": {}
    }, 
    {
      "source": [
        "Or using the numpy form, and adding titles, and making the figure larger"
      ], 
      "cell_type": "markdown", 
      "metadata": {}
    }, 
    {
      "execution_count": 17, 
      "cell_type": "code", 
      "source": [
        "plt.figure(figsize = (9, 6))\n", 
        "plt.hist(combined.popmills.values);\n", 
        "plt.ylabel(\"Number of States\")\n", 
        "plt.xlabel(\"Population (in millions)\")\n", 
        "plt.title(\"Most American states have low populations\");"
      ], 
      "outputs": [], 
      "metadata": {}
    }, 
    {
      "source": [
        "## Saving Figures\n", 
        "\n", 
        "Now that we have made this figure, we might want to save it."
      ], 
      "cell_type": "markdown", 
      "metadata": {}
    }, 
    {
      "execution_count": 18, 
      "cell_type": "code", 
      "source": [
        "plt.figure(figsize = (9, 6))\n", 
        "plt.hist(combined.popmills.values);\n", 
        "plt.ylabel(\"Number of States\")\n", 
        "plt.xlabel(\"Population (in millions)\")\n", 
        "plt.title(\"Most American states have low populations\");\n", 
        "plt.tight_layout() #  makes sure nothing is clipped in saving\n", 
        "plt.savefig(\"images/histo.png\", transparent=True)\n", 
        "plt.savefig(\"images/histo.pdf\")"
      ], 
      "outputs": [], 
      "metadata": {}
    }, 
    {
      "source": [
        "We use `transparent` in pngs so that we can load it on any background web page. If ou are seeing this in our platform, the background should be our usual yellowish one)\n", 
        "\n", 
        "Lets load the file in using markdown\n", 
        "\n", 
        "![](images/histo.png)"
      ], 
      "cell_type": "markdown", 
      "metadata": {}
    }, 
    {
      "source": [
        "It is very easy to create subplots in matplotlib as well. Here is a quick and dirty example. "
      ], 
      "cell_type": "markdown", 
      "metadata": {}
    }, 
    {
      "execution_count": 19, 
      "cell_type": "code", 
      "source": [
        "def f(t):\n", 
        "    return np.exp(-t) * np.cos(2*np.pi*t)\n", 
        "t1 = np.arange(0.0, 5.0, 0.1)\n", 
        "t2 = np.arange(0.0, 5.0, 0.02)\n", 
        "plt.figure(figsize = (9, 6))\n", 
        "plt.subplot(211) # 2 rows, 1 column, 1st plot\n", 
        "plt.plot(t1, f(t1), 'bo', t2, f(t2))\n", 
        "plt.subplot(212) # 2 rows, 1 column, 2nd plot\n", 
        "plt.plot(t2, np.cos(2*np.pi*t2))\n", 
        "plt.show()"
      ], 
      "outputs": [], 
      "metadata": {}
    }, 
    {
      "execution_count": 20, 
      "cell_type": "code", 
      "source": [
        "def f(t):\n", 
        "    return np.exp(-t) * np.cos(2*np.pi*t)\n", 
        "t1 = np.arange(0.0, 5.0, 0.1)\n", 
        "t2 = np.arange(0.0, 5.0, 0.02)\n", 
        "plt.figure(figsize = (9, 6))\n", 
        "plt.subplot(121) # 1 row, 2 columns, 1st plot\n", 
        "plt.plot(t1, f(t1), 'bo', t2, f(t2))\n", 
        "plt.subplot(122) # 1 row, 2 columns, 2nd plot\n", 
        "plt.plot(t2, np.cos(2*np.pi*t2))\n", 
        "plt.show()"
      ], 
      "outputs": [], 
      "metadata": {}
    }, 
    {
      "source": [
        "## The matplotlib object oriented API\n", 
        "\n", 
        "Matplotlib has a very similar but more sane api which sets up a figure and an axis as instances of classes. The rather schizophrenic calls to `plt` and ax are now replced by methods, rather thatn relying on some global state`gca`.\n", 
        "\n", 
        "We dont have much space to go into the object oriented API here, so we will just re-implement the previous example using it. But there are some basic priciples you want to follow.\n", 
        "\n", 
        "If you are interested in more details, see Brandon Rohrer's excellent free matplotlib course at https://end-to-end-machine-learning.teachable.com/p/navigating-matplotlib-tutorial-how-to/ ."
      ], 
      "cell_type": "markdown", 
      "metadata": {}
    }, 
    {
      "source": [
        "The `subplots` oriented API lets us do multiple subplots as well. We'll do this later).\n", 
        "\n", 
        "Lets also do the scatterplot we had earlier, so that we see some more features of the object-oriented API. Here is the original:"
      ], 
      "cell_type": "markdown", 
      "metadata": {}
    }, 
    {
      "execution_count": 30, 
      "cell_type": "code", 
      "source": [
        "fig = plt.figure(figsize = (9,6))\n", 
        "ax = fig.gca()\n", 
        "plt.scatter(combined.Votes, combined.popmills, alpha=0.6, s=10, marker='s')\n", 
        "plt.xlabel(\"Electoral College Votes\")\n", 
        "plt.xlim((0, 35))\n", 
        "plt.ylabel(\"Population (in millions)\")\n", 
        "plt.ylim((0, 20))\n", 
        "plt.title(\"Population vs Electoral Votes amongst US States (2012)\")"
      ], 
      "outputs": [], 
      "metadata": {}
    }, 
    {
      "source": [
        "And now in object oriented style:"
      ], 
      "cell_type": "markdown", 
      "metadata": {}
    }, 
    {
      "execution_count": 31, 
      "cell_type": "code", 
      "source": [
        "fig, ax = plt.subplots(figsize = (9,6))\n", 
        "ax.scatter(combined.Votes, combined.popmills, alpha=0.6, s=10, marker='s')\n", 
        "ax.set_xlabel(\"Electoral College Votes\")\n", 
        "ax.set_xlim((0, 35))\n", 
        "ax.set_ylabel(\"Population (in millions)\")\n", 
        "ax.set_ylim((0, 20))\n", 
        "ax.set_title(\"Population vs Electoral Votes amongst US States (2012)\");"
      ], 
      "outputs": [], 
      "metadata": {}
    }, 
    {
      "source": [
        "Notice how `ax` has `get_` and `set_` methods. We saw some of these earlier. when we tried to get the limits of the x-axis. So some of the usual `plt` functions on the global figure are now available as methods on the `ax` objects. This makes it simple to even address multiple axes objects inside a figure, something that we will see later. Meanwhile, lets save this image and see it:"
      ], 
      "cell_type": "markdown", 
      "metadata": {}
    }, 
    {
      "execution_count": 32, 
      "cell_type": "code", 
      "source": [
        "fig.tight_layout()\n", 
        "fig.savefig(\"images/scatter.png\", transparent=True)"
      ], 
      "outputs": [], 
      "metadata": {}
    }, 
    {
      "source": [
        "Here is the image\n", 
        "\n", 
        "![](images/scatter.png)\n", 
        "\n", 
        "The multiple plots example can be cast in this format too:"
      ], 
      "cell_type": "markdown", 
      "metadata": {}
    }, 
    {
      "execution_count": 33, 
      "cell_type": "code", 
      "source": [
        "def f(t):\n", 
        "    return np.exp(-t) * np.cos(2*np.pi*t)\n", 
        "t1 = np.arange(0.0, 5.0, 0.1)\n", 
        "t2 = np.arange(0.0, 5.0, 0.02)\n", 
        "# 2 rows, 1 column\n", 
        "fig, axes = plt.subplots(2, 1, figsize = (9, 6))\n", 
        "axes[0].plot(t1, f(t1), 'bo', t2, f(t2))\n", 
        "axes[1].plot(t2, np.cos(2*np.pi*t2))"
      ], 
      "outputs": [], 
      "metadata": {}
    }, 
    {
      "source": [
        "If we have 2 rows and 2 columns we get a 2d array"
      ], 
      "cell_type": "markdown", 
      "metadata": {}
    }, 
    {
      "execution_count": 34, 
      "cell_type": "code", 
      "source": [
        "def f(t):\n", 
        "    return np.exp(-t) * np.cos(2*np.pi*t)\n", 
        "t1 = np.arange(0.0, 5.0, 0.1)\n", 
        "t2 = np.arange(0.0, 5.0, 0.02)\n", 
        "# 2 rows, 1 column\n", 
        "fig, axes = plt.subplots(2, 2, figsize = (9, 9))\n", 
        "axes[0][0].plot(t1, f(t1), 'bo', t2, f(t2))\n", 
        "axes[0][1].plot(t2, np.cos(2*np.pi*t2))\n", 
        "axes[1][0].plot(t1, np.sin(2*np.pi*t1))\n", 
        "axes[1][1].plot(t2, np.tan(2*np.pi*t2))"
      ], 
      "outputs": [], 
      "metadata": {}
    }
  ]
}