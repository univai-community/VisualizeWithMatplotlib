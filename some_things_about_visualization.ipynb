{
  "metadata": {
    "kernelspec": {
      "display_name": "ml1-arm64", 
      "name": "ml1-arm64", 
      "language": "python"
    }, 
    "language_info": {
      "mimetype": "text/x-python", 
      "nbconvert_exporter": "python", 
      "name": "python", 
      "file_extension": ".py", 
      "version": "3.9.13", 
      "pygments_lexer": "ipython3", 
      "codemirror_mode": {
        "version": 3, 
        "name": "ipython"
      }
    }, 
    "anaconda-cloud": {}
  }, 
  "nbformat": 4, 
  "nbformat_minor": 4, 
  "cells": [
    {
      "source": [
        "# Some Things About Visualization"
      ], 
      "cell_type": "markdown", 
      "metadata": {}
    }, 
    {
      "execution_count": 1, 
      "cell_type": "code", 
      "source": [
        "%matplotlib inline \n", 
        "#this line above prepares IPython notebook for working with matplotlib\n", 
        "\n", 
        "\n", 
        "import numpy as np # imports a fast numerical programming library\n", 
        "import scipy as sp #imports stats functions, amongst other things\n", 
        "import matplotlib as mpl # this actually imports matplotlib\n", 
        "import matplotlib.cm as cm #allows us easy access to colormaps\n", 
        "import matplotlib.pyplot as plt #sets up plotting under plt\n", 
        "import pandas as pd #lets us handle data as dataframes\n"
      ], 
      "outputs": [], 
      "metadata": {}
    }, 
    {
      "source": [
        "## Efficiencies in Visualization"
      ], 
      "cell_type": "markdown", 
      "metadata": {}
    }, 
    {
      "source": [
        "![](images/longersteeper.jpeg)"
      ], 
      "cell_type": "markdown", 
      "metadata": {}
    }, 
    {
      "source": [
        "*your answer here*\n"
      ], 
      "cell_type": "markdown", 
      "metadata": {}
    }, 
    {
      "source": [
        "![](images/largerdarker.jpeg)"
      ], 
      "cell_type": "markdown", 
      "metadata": {}
    }, 
    {
      "source": [
        "*your answer here*\n"
      ], 
      "cell_type": "markdown", 
      "metadata": {}
    }, 
    {
      "source": [
        "![](images/biggervalue.jpeg)"
      ], 
      "cell_type": "markdown", 
      "metadata": {}
    }, 
    {
      "source": [
        "*your answer here*\n"
      ], 
      "cell_type": "markdown", 
      "metadata": {}
    }, 
    {
      "source": [
        "## mtcars dataset"
      ], 
      "cell_type": "markdown", 
      "metadata": {}
    }, 
    {
      "source": [
        " \n", 
        "\n", 
        "The documentation for this data is [here](https://stat.ethz.ch/R-manual/R-devel/library/datasets/html/mtcars.html) but I have extracted some relevant parts below:\n", 
        "\n", 
        "```\n", 
        "Description\n", 
        "\n", 
        "The data was extracted from the 1974 Motor Trend US magazine, and comprises fuel consumption and 10 aspects of automobile design and performance for 32 automobiles (1973\u201374 models).\n", 
        "\n", 
        "Usage\n", 
        "\n", 
        "mtcars\n", 
        "Format\n", 
        "\n", 
        "A data frame with 32 observations on 11 variables.\n", 
        "\n", 
        "[, 1]\tmpg\tMiles/(US) gallon\n", 
        "[, 2]\tcyl\tNumber of cylinders\n", 
        "[, 3]\tdisp\tDisplacement (cu.in.)\n", 
        "[, 4]\thp\tGross horsepower\n", 
        "[, 5]\tdrat\tRear axle ratio\n", 
        "[, 6]\twt\tWeight (1000 lbs)\n", 
        "[, 7]\tqsec\t1/4 mile time\n", 
        "[, 8]\tvs\tV/S\n", 
        "[, 9]\tam\tTransmission (0 = automatic, 1 = manual)\n", 
        "[,10]\tgear\tNumber of forward gears\n", 
        "[,11]\tcarb\tNumber of carburetors\n", 
        "Source\n", 
        "\n", 
        "Henderson and Velleman (1981), Building multiple regression models interactively. Biometrics, 37, 391\u2013411.\n", 
        "```"
      ], 
      "cell_type": "markdown", 
      "metadata": {}
    }, 
    {
      "execution_count": 2, 
      "cell_type": "code", 
      "source": [
        "dfcars=pd.read_csv(\"data/mtcars-edited.csv\")\n", 
        "dfcars.head()"
      ], 
      "outputs": [], 
      "metadata": {}
    }, 
    {
      "source": [
        "There are multiple data types here:\n", 
        "\n", 
        "![](images/datatypes.png)"
      ], 
      "cell_type": "markdown", 
      "metadata": {}
    }, 
    {
      "execution_count": 26, 
      "cell_type": "code", 
      "source": [
        "dfcars.dtypes"
      ], 
      "outputs": [], 
      "metadata": {}
    }, 
    {
      "source": [
        "We can construct the `av_mpg` series by using the \"split-apply-combine\" paradigm and summarizing within group data by a mean:"
      ], 
      "cell_type": "markdown", 
      "metadata": {}
    }, 
    {
      "execution_count": 3, 
      "cell_type": "code", 
      "source": [
        "av_mpg = dfcars.groupby('maker').mpg.mean()\n", 
        "av_mpg"
      ], 
      "outputs": [], 
      "metadata": {}
    }, 
    {
      "execution_count": 4, 
      "cell_type": "code", 
      "source": [
        "import seaborn as sns"
      ], 
      "outputs": [], 
      "metadata": {}
    }, 
    {
      "source": [
        "## Using Colors\n", 
        "\n", 
        "Now we see maplotlib's default color palette, 'viridis'.\n", 
        "\n", 
        "![](images/viridis.png)\n", 
        "\n", 
        "This is an example of a **perceptually linear** colormap, as opposed to the rainbow colormap used by Matlab and countless other software."
      ], 
      "cell_type": "markdown", 
      "metadata": {}
    }, 
    {
      "execution_count": 5, 
      "cell_type": "code", 
      "source": [
        "sns.palplot(sns.color_palette());"
      ], 
      "outputs": [], 
      "metadata": {}
    }, 
    {
      "execution_count": 37, 
      "cell_type": "code", 
      "source": [
        "sns.palplot(sns.color_palette(\"viridis\"))"
      ], 
      "outputs": [], 
      "metadata": {}
    }, 
    {
      "source": [
        "How should you choose colors?\n", 
        "\n", 
        "![](images/colorscales.png)"
      ], 
      "cell_type": "markdown", 
      "metadata": {}
    }, 
    {
      "source": [
        "#### Bar Charts\n", 
        "\n", 
        "We see that Pandas series very niftily give us bar graphs. Pandas has many other charts. They will use the standard palette. As long as you are using lengths to represent data, you **do not** need more than one color. And length is better!!!"
      ], 
      "cell_type": "markdown", 
      "metadata": {}
    }, 
    {
      "execution_count": 6, 
      "cell_type": "code", 
      "source": [
        "plt.figure(figsize=(8, 10))\n", 
        "av_mpg.plot(kind=\"barh\")"
      ], 
      "outputs": [], 
      "metadata": {}
    }, 
    {
      "source": [
        "Here we are clearly using length to encode the numerical values, all in one color. What models of visual expression are most efficient?\n", 
        "\n", 
        "![](images/datatypesmodes.jpeg)"
      ], 
      "cell_type": "markdown", 
      "metadata": {}
    }, 
    {
      "source": [
        "## Co-relations and diverging Palettes\n", 
        "\n", 
        "Color is indeed not the most efficient. But when spatial information is *taken up* by something else we must use it, as in a map, or a correlation matrix, or a more than 1-D probability density)"
      ], 
      "cell_type": "markdown", 
      "metadata": {}
    }, 
    {
      "execution_count": 7, 
      "cell_type": "code", 
      "source": [
        "dfcars[['mpg', 'wt', 'hp', 'qsec', 'disp']].corr()"
      ], 
      "outputs": [], 
      "metadata": {}
    }, 
    {
      "source": [
        "Since correlations range from -1 to 1 through 0, a diverging palette is probably our best bet."
      ], 
      "cell_type": "markdown", 
      "metadata": {}
    }, 
    {
      "execution_count": 9, 
      "cell_type": "code", 
      "source": [
        "dpal = sns.choose_colorbrewer_palette('diverging', as_cmap=True)"
      ], 
      "outputs": [], 
      "metadata": {}
    }, 
    {
      "source": [
        "We use `maptplotlib`s correlation plot. You'll land up doing plots like this for both EDA and do see misclassification from your machine learning algorithms. In other words, EDA is even useful at the analysis stage."
      ], 
      "cell_type": "markdown", 
      "metadata": {}
    }, 
    {
      "execution_count": 27, 
      "cell_type": "code", 
      "source": [
        "plt.matshow(dfcars[['mpg', 'wt', 'hp', 'qsec', 'disp']].corr(), cmap=dpal)\n", 
        "ax = plt.gca()\n", 
        "ax.tick_params(axis='both', which='both',length=0);\n", 
        "plt.title(\"Correlation Matrix\")\n", 
        "plt.xticks(range(5), ['mpg', 'wt', 'hp', 'qsec', 'disp'])\n", 
        "plt.yticks(range(5), ['mpg', 'wt', 'hp', 'qsec', 'disp']);\n"
      ], 
      "outputs": [], 
      "metadata": {}
    }, 
    {
      "source": [
        "### Density Plots and Sequential Palettes.\n", 
        "\n", 
        "Here we make a KDE plot of a multivariate normal distribution. Since a probability density is strictly positive, with values near 0 not being so interesting, a sequential palette is our ticket. Seaborn will by default provide such a palette for KDE plots, but you can use your own!"
      ], 
      "cell_type": "markdown", 
      "metadata": {}
    }, 
    {
      "execution_count": 12, 
      "cell_type": "code", 
      "source": [
        "mean, cov = [0, 1], [(1, .5), (.5, 1)]\n", 
        "data = np.random.multivariate_normal(mean, cov, 1000)\n", 
        "df = pd.DataFrame(data, columns=[\"x\", \"y\"])\n", 
        "df.head()"
      ], 
      "outputs": [], 
      "metadata": {}
    }, 
    {
      "execution_count": 13, 
      "cell_type": "code", 
      "source": [
        "seqpal = sns.choose_colorbrewer_palette(\"sequential\", as_cmap=True)"
      ], 
      "outputs": [], 
      "metadata": {}
    }, 
    {
      "execution_count": 14, 
      "cell_type": "code", 
      "source": [
        "sns.kdeplot(df.x, df.y, cmap=seqpal, shade=True);"
      ], 
      "outputs": [], 
      "metadata": {}
    }, 
    {
      "source": [
        "In 1-D you dont need such a palette: you can just use one color, as you are once again using spatial information. For 2D colormaps, you could use a 3-D plot, but these are harder to interpret. For example a good cartograph of mountains is often easier to read than a fake-3d rendering. Indeed a subtle use of color, and other markings can render far better than 3d...\n", 
        "\n", 
        "![](https://s3.amazonaws.com/edwardtufte.com/Thinking%20Eye/SwissMap1.jpg)"
      ], 
      "cell_type": "markdown", 
      "metadata": {}
    }, 
    {
      "execution_count": 31, 
      "cell_type": "code", 
      "source": [
        "sns.kdeplot(df.x, shade=True);"
      ], 
      "outputs": [], 
      "metadata": {}
    }, 
    {
      "source": [
        "## The Interest in Science Problem: which graphical mode to use?\n", 
        "\n", 
        "![](images/questionasked.png)\n", 
        "\n", 
        "You are given this data. Let us think of some ways to display this..."
      ], 
      "cell_type": "markdown", 
      "metadata": {}
    }, 
    {
      "execution_count": 15, 
      "cell_type": "code", 
      "source": [
        "science = {\n", 
        "    'interest': ['Excited', 'Kind of interested', 'OK', 'Not great', 'Bored'],\n", 
        "    'before': [19, 25, 40, 5, 11],\n", 
        "    'after': [38, 30, 14, 6, 12]\n", 
        "}\n", 
        "dfscience = pd.DataFrame.from_dict(science).set_index(\"interest\")[['before', 'after']]\n", 
        "dfscience"
      ], 
      "outputs": [], 
      "metadata": {}
    }, 
    {
      "source": [
        "### Multiple Pie Charts"
      ], 
      "cell_type": "markdown", 
      "metadata": {}
    }, 
    {
      "execution_count": 16, 
      "cell_type": "code", 
      "source": [
        "fig, axs = plt.subplots(1,2, figsize = (10,6))\n", 
        "dfscience.before.plot(kind=\"pie\", ax=axs[0], labels=None);\n", 
        "axs[0].legend(loc=\"upper left\", ncol=5, labels=dfscience.index)\n", 
        "dfscience.after.plot(kind=\"pie\", ax=axs[1], labels=None);\n"
      ], 
      "outputs": [], 
      "metadata": {}
    }, 
    {
      "source": [
        "### Before and after bar charts"
      ], 
      "cell_type": "markdown", 
      "metadata": {}
    }, 
    {
      "execution_count": 17, 
      "cell_type": "code", 
      "source": [
        "plt.figure(figsize=(12,8))\n", 
        "ax = plt.gca()\n", 
        "dfscience.plot(ax = ax, kind=\"bar\");"
      ], 
      "outputs": [], 
      "metadata": {}
    }, 
    {
      "source": [
        "### Stacked Charts\n"
      ], 
      "cell_type": "markdown", 
      "metadata": {}
    }, 
    {
      "execution_count": 18, 
      "cell_type": "code", 
      "source": [
        "plt.figure(figsize=(12,8));\n", 
        "ax = plt.gca()\n", 
        "dfscience.plot(ax=ax, kind=\"barh\", stacked=True);"
      ], 
      "outputs": [], 
      "metadata": {}
    }, 
    {
      "source": [
        "This is hard to read. We want to compare before and after easily. Sometimes the solution is a transpose!!"
      ], 
      "cell_type": "markdown", 
      "metadata": {}
    }, 
    {
      "execution_count": 19, 
      "cell_type": "code", 
      "source": [
        "dfscience.transpose()"
      ], 
      "outputs": [], 
      "metadata": {}
    }, 
    {
      "source": [
        "We have to play some games to get the ordering right..."
      ], 
      "cell_type": "markdown", 
      "metadata": {}
    }, 
    {
      "execution_count": 20, 
      "cell_type": "code", 
      "source": [
        "dfst = dfscience.transpose()\n", 
        "dfst.iloc[[1, 0],:]"
      ], 
      "outputs": [], 
      "metadata": {}
    }, 
    {
      "execution_count": 21, 
      "cell_type": "code", 
      "source": [
        "plt.figure(figsize=(12,8));\n", 
        "ax = plt.gca()\n", 
        "dfscience.transpose().loc[['after', 'before'], :].plot(ax=ax, kind=\"barh\", stacked=True)\n", 
        "plt.legend(loc=2, ncol=5);"
      ], 
      "outputs": [], 
      "metadata": {}
    }, 
    {
      "source": [
        "Now we see that the blue and greens have it. Try and improve this plot. It still has too much chartjunk."
      ], 
      "cell_type": "markdown", 
      "metadata": {}
    }, 
    {
      "source": [
        "### Difference Bar chart\n", 
        "\n", 
        "Sometimes a small data transformation makes the effect blindingly obvious. Here we just make a bar chart of the change!"
      ], 
      "cell_type": "markdown", 
      "metadata": {}
    }, 
    {
      "execution_count": 22, 
      "cell_type": "code", 
      "source": [
        "plt.figure(figsize=(12,8));\n", 
        "ax = plt.gca()\n", 
        "(dfscience.after - dfscience.before).plot(kind=\"barh\", ax=ax);"
      ], 
      "outputs": [], 
      "metadata": {}
    }, 
    {
      "source": [
        "### Slopegraph"
      ], 
      "cell_type": "markdown", 
      "metadata": {}
    }, 
    {
      "execution_count": 23, 
      "cell_type": "code", 
      "source": [
        "dfst.head()"
      ], 
      "outputs": [], 
      "metadata": {}
    }, 
    {
      "execution_count": 24, 
      "cell_type": "code", 
      "source": [
        "plt.figure(figsize=(10,8))\n", 
        "ax = plt.gca()\n", 
        "ax.tick_params(axis='both', which='both',length=0)\n", 
        "ax.set_yticklabels([])\n", 
        "ax.spines['right'].set_visible(False)\n", 
        "ax.spines['left'].set_visible(False)\n", 
        "ax.spines['top'].set_visible(False)\n", 
        "ax.spines['bottom'].set_visible(False)\n", 
        "for kind in ['Excited', 'Kind of interested', 'OK', 'Not great', 'Bored']:\n", 
        "    vals = dfst[kind]\n", 
        "    plt.plot(vals, 'o-')\n", 
        "    plt.annotate(kind+\", \"+str(vals['before']), xy = ('before', vals['before']+0.5), ha='right')\n", 
        "    plt.annotate(kind+\", \"+str(vals['after']), xy = ('after', vals['after']+0.5), ha='left')\n", 
        "\n", 
        "plt.title(\"How do you feel about doing Science?\");"
      ], 
      "outputs": [], 
      "metadata": {}
    }
  ]
}