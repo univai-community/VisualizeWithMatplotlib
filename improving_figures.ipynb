{
  "metadata": {
    "kernelspec": {
      "display_name": "ml1-arm64", 
      "name": "ml1-arm64", 
      "language": "python"
    }, 
    "language_info": {
      "mimetype": "text/x-python", 
      "nbconvert_exporter": "python", 
      "name": "python", 
      "file_extension": ".py", 
      "version": "3.9.13", 
      "pygments_lexer": "ipython3", 
      "codemirror_mode": {
        "version": 3, 
        "name": "ipython"
      }
    }
  }, 
  "nbformat": 4, 
  "nbformat_minor": 4, 
  "cells": [
    {
      "source": [
        "# Keep it Simple\n", 
        "\n", 
        "As Antoine de Saint-Exup\u00e9ry said: *Perfection is achieved, not when there is nothing more to add, but when there is nothing left to take away.* As @EdwardTufte has persuasively argued in his books, extraneous visual elements that distract from the message should be removed. For example: tick-marks, frames, sometimes even numbers! Lets us implement this process using matplotlib for a simple example..."
      ], 
      "cell_type": "markdown", 
      "metadata": {}
    }, 
    {
      "execution_count": 7, 
      "cell_type": "code", 
      "source": [
        "%matplotlib inline\n", 
        "import numpy as np\n", 
        "import matplotlib.pyplot as plt\n", 
        "import pandas as pd"
      ], 
      "outputs": [], 
      "metadata": {}
    }, 
    {
      "source": [
        "Here is a dataset on electoral votes and population in all the US states. We'll make a bar chart comparing the electoral votes of different states"
      ], 
      "cell_type": "markdown", 
      "metadata": {}
    }, 
    {
      "execution_count": 8, 
      "cell_type": "code", 
      "source": [
        "combined = pd.read_csv(\"https://gist.githubusercontent.com/rahuldave/2256465a8524453cb2a4630d336f82f7/raw/bb55cbbc52440b31b94ac1410ada88ca657276d8/combined_population_votes.csv\", index_col='State')\n", 
        "combined.head(10)"
      ], 
      "outputs": [], 
      "metadata": {}
    }, 
    {
      "execution_count": 9, 
      "cell_type": "code", 
      "source": [
        "# get a sorted pandas series for the electoral votes\n", 
        "votesasc = combined['Votes'].sort_values(ascending = True)\n", 
        "votesasc"
      ], 
      "outputs": [], 
      "metadata": {}
    }, 
    {
      "source": [
        "In this picture taken from https://end-to-end-machine-learning.teachable.com/p/navigating-matplotlib-tutorial-how-to/ by @brohrer, we see that (possibly multiple) Axes sit inside a Figure, and everything else (such as xaxis, yaxis, lines, patches, text, annotations) sits inside the Axes.\n", 
        "\n", 
        "![](images/7.png)"
      ], 
      "cell_type": "markdown", 
      "metadata": {}
    }, 
    {
      "source": [
        "This first snippet illustrates Matplotlib's object-oriented API. We first create a figure object, and in the context of that object, an axes object. Then pandas is used to place a bar plot into those axes. What's **not good** about this plot?"
      ], 
      "cell_type": "markdown", 
      "metadata": {}
    }, 
    {
      "execution_count": 10, 
      "cell_type": "code", 
      "source": [
        "# get non-global figure and axis\n", 
        "fig, ax = plt.subplots(figsize = (8, 15))\n", 
        "# get pandas to plot inside the current axis\n", 
        "votesasc.plot.barh(ax=ax, alpha=0.7) \n", 
        "# (alpha sets the transparency)\n", 
        "# Set the title\n", 
        "ax.set_title(\"Electoral Votes by State\")\n", 
        "# Set the x-axis label\n", 
        "ax.set_xlabel(\"Electoral Votes\")"
      ], 
      "outputs": [], 
      "metadata": {}
    }, 
    {
      "source": [
        "## Improving the plot"
      ], 
      "cell_type": "markdown", 
      "metadata": {}
    }, 
    {
      "source": [
        "There are many things wrong with this picture. Tick marks are not needed on the labeled y-axis. We do this in matplotlib by setting their length to 0. Note that we are not removing the ticks, but just the marks corresponding to them.\n"
      ], 
      "cell_type": "markdown", 
      "metadata": {}
    }, 
    {
      "execution_count": 11, 
      "cell_type": "code", 
      "source": [
        "# get non-global figure and axis\n", 
        "fig, ax = plt.subplots(figsize = (8, 15))\n", 
        "# get pandas to plot inside the current axis\n", 
        "votesasc.plot.barh(ax=ax, alpha=0.7) \n", 
        "# (alpha sets the transparency)\n", 
        "# Set the title\n", 
        "ax.set_title(\"Electoral Votes by State\")\n", 
        "# remove y-axis ticks\n", 
        "ax.tick_params(axis=\"y\",\n", 
        "               which='both', #major and minor ticks\n", 
        "               length=0) # set to 0"
      ], 
      "outputs": [], 
      "metadata": {}
    }, 
    {
      "source": [
        "Because the graph is too long, the electoral votes numbers at the bottom cant be seen on the bars. We might do better with a grid. \n", 
        "\n", 
        "Do we really need tick-marks on the x-axis? Why not just write the labels? And move these labels to the top where they are needed more, since the longest bars are there. Finally using a grid at the ticks helps us see the values on each and every bar!"
      ], 
      "cell_type": "markdown", 
      "metadata": {}
    }, 
    {
      "execution_count": 12, 
      "cell_type": "code", 
      "source": [
        "# get non-global figure and axis\n", 
        "fig, ax = plt.subplots(figsize = (8, 15))\n", 
        "# get pandas to plot inside the current axis\n", 
        "votesasc.plot.barh(ax=ax, alpha=0.7) \n", 
        "# (alpha sets the transparency)\n", 
        "# Set the title\n", 
        "ax.set_title(\"Electoral Votes by State\")\n", 
        "# remove both axis ticks\n", 
        "ax.tick_params(axis=\"both\",\n", 
        "               which='both', #major and minor ticks\n", 
        "               length=0) # set to 0\n", 
        "# set labels on top\n", 
        "ax.tick_params(axis=\"x\",\n", 
        "               labeltop=True,\n", 
        "                labelbottom=False)\n", 
        "# need to have something to replace x-axis ticks\n", 
        "# use a grid instead\n", 
        "ax.grid(axis = 'x', color ='white', linestyle='-')"
      ], 
      "outputs": [], 
      "metadata": {}
    }, 
    {
      "source": [
        "Do the spines add anything to our presentation? No! The elements of the figure are strong enough to stand by themselves. Ok, so lets remove the spines..."
      ], 
      "cell_type": "markdown", 
      "metadata": {}
    }, 
    {
      "execution_count": 13, 
      "cell_type": "code", 
      "source": [
        "# get non-global figure and axis\n", 
        "fig, ax = plt.subplots(figsize = (8, 15))\n", 
        "# get pandas to plot inside the current axis\n", 
        "votesasc.plot.barh(ax=ax, alpha=0.7) \n", 
        "# (alpha sets the transparency)\n", 
        "# Set the title\n", 
        "ax.set_title(\"Electoral Votes by State\")\n", 
        "# remove both axis ticks\n", 
        "ax.tick_params(axis=\"both\",\n", 
        "               which='both', #major and minor ticks\n", 
        "               length=0) # set to 0\n", 
        "# set labels on top\n", 
        "ax.tick_params(axis=\"x\",\n", 
        "               labeltop=True,\n", 
        "                labelbottom=False)\n", 
        "# need to have something to replace x-axis ticks\n", 
        "# use a grid instead\n", 
        "ax.grid(axis = 'x', color ='white', linestyle='-')\n", 
        "# do we really need the spines?\n", 
        "ax.spines['right'].set_visible(False)\n", 
        "ax.spines['bottom'].set_visible(False)\n", 
        "ax.spines['top'].set_visible(False)\n", 
        "ax.spines['left'].set_visible(False)"
      ], 
      "outputs": [], 
      "metadata": {}
    }, 
    {
      "source": [
        "If you want to show more precise distinctions between the states' electoral votes, you want the grid to be more fine grained. So lets have a tick every 5 votes, which translates in our grid visual to a grid line every 5 votes."
      ], 
      "cell_type": "markdown", 
      "metadata": {}
    }, 
    {
      "execution_count": 14, 
      "cell_type": "code", 
      "source": [
        "# get non-global figure and axis\n", 
        "fig, ax = plt.subplots(figsize = (8, 15))\n", 
        "# get pandas to plot inside the current axis\n", 
        "votesasc.plot.barh(ax=ax, alpha=0.7) \n", 
        "# (alpha sets the transparency)\n", 
        "# Set the title\n", 
        "ax.set_title(\"Electoral Votes by State\")\n", 
        "# remove both axis ticks\n", 
        "ax.tick_params(axis=\"both\",\n", 
        "               which='both', #major and minor ticks\n", 
        "               length=0) # set to 0\n", 
        "# set labels on top\n", 
        "ax.tick_params(axis=\"x\",\n", 
        "               labeltop=True,\n", 
        "                labelbottom=False)\n", 
        "# need to have something to replace x-axis ticks\n", 
        "# use a grid instead\n", 
        "ax.grid(axis = 'x', color ='white', linestyle='-')\n", 
        "# do we really need the spines?\n", 
        "ax.spines['right'].set_visible(False)\n", 
        "ax.spines['bottom'].set_visible(False)\n", 
        "ax.spines['top'].set_visible(False)\n", 
        "ax.spines['left'].set_visible(False)\n", 
        "# have more x-axis ticks for easier readoff\n", 
        "start, stop = ax.get_xlim()\n", 
        "ticks = np.arange(start, stop + 5, 5)\n", 
        "ax.set_xticks(ticks);"
      ], 
      "outputs": [], 
      "metadata": {}
    }, 
    {
      "source": [
        "The grid line labels look entirely redundant. After all, we can count off the grid-lines. So lets get rid of them, and eliminate the clutter. And then, why not show the user the electoral votes for each state at the end of its bar? Dont make the user think!"
      ], 
      "cell_type": "markdown", 
      "metadata": {}
    }, 
    {
      "execution_count": 15, 
      "cell_type": "code", 
      "source": [
        "# get non-global figure and axis\n", 
        "fig, ax = plt.subplots(figsize = (8, 15))\n", 
        "# get pandas to plot inside the current axis\n", 
        "votesasc.plot.barh(ax=ax, alpha=0.7) \n", 
        "# (alpha sets the transparency)\n", 
        "# Set the title\n", 
        "ax.set_title(\"Electoral Votes by State\")\n", 
        "# remove both axis ticks\n", 
        "ax.tick_params(axis=\"both\",\n", 
        "               which='both', #major and minor ticks\n", 
        "               length=0) # set to 0\n", 
        "# get rid of labels in favor of annotations\n", 
        "ax.set_xticklabels([])\n", 
        "for idx, statename, evotes in zip(range(votesasc.shape[0]), \n", 
        "                                  votesasc.index, \n", 
        "                                  votesasc.values):\n", 
        "    ax.annotate(evotes, xy=(evotes + 1, idx), va='center')\n", 
        "# need to have something to replace x-axis ticks\n", 
        "# use a grid instead\n", 
        "ax.grid(axis = 'x', color ='white', linestyle='-')\n", 
        "# do we really need the spines?\n", 
        "ax.spines['right'].set_visible(False)\n", 
        "ax.spines['bottom'].set_visible(False)\n", 
        "ax.spines['top'].set_visible(False)\n", 
        "ax.spines['left'].set_visible(False)\n", 
        "# have more x-axis ticks for easier readoff\n", 
        "start, stop = ax.get_xlim()\n", 
        "ticks = np.arange(start, stop + 5, 5)\n", 
        "ax.set_xticks(ticks);"
      ], 
      "outputs": [], 
      "metadata": {}
    }, 
    {
      "source": [
        "## The final plots\n", 
        "\n", 
        "We clean up the layout-ing."
      ], 
      "cell_type": "markdown", 
      "metadata": {}
    }, 
    {
      "execution_count": 16, 
      "cell_type": "code", 
      "source": [
        "# get non-global figure and axis\n", 
        "fig, ax = plt.subplots(figsize = (8, 15))\n", 
        "# get pandas to plot inside the current axis\n", 
        "votesasc.plot.barh(ax=ax, alpha=0.7) \n", 
        "# (alpha sets the transparency)\n", 
        "# Set the title\n", 
        "ax.set_title(\"Electoral Votes by State\")\n", 
        "# remove both axis ticks\n", 
        "ax.tick_params(axis=\"both\",\n", 
        "               which='both', #major and minor ticks\n", 
        "               length=0) # set to 0\n", 
        "# get rid of labels in favor of annotations\n", 
        "ax.set_xticklabels([])\n", 
        "for idx, statename, evotes in zip(range(votesasc.shape[0]), \n", 
        "                                  votesasc.index, \n", 
        "                                  votesasc.values):\n", 
        "    # annotate with votes AFTER bar and at the index on y-axis\n", 
        "    ax.annotate(evotes, xy=(evotes + 1, idx), va='center')\n", 
        "# need to have something to replace x-axis ticks\n", 
        "# use a grid instead\n", 
        "ax.grid(axis = 'x', color ='white', linestyle='-')\n", 
        "# do we really need the spines?\n", 
        "ax.spines['right'].set_visible(False)\n", 
        "ax.spines['bottom'].set_visible(False)\n", 
        "ax.spines['top'].set_visible(False)\n", 
        "ax.spines['left'].set_visible(False)\n", 
        "# have more x-axis ticks for easier readoff\n", 
        "start, stop = ax.get_xlim()\n", 
        "ticks = np.arange(start, stop + 5, 5)\n", 
        "ax.set_xticks(ticks);\n", 
        "# Beautify\n", 
        "fig.tight_layout()"
      ], 
      "outputs": [], 
      "metadata": {}
    }, 
    {
      "source": [
        "And save the image transparently, so that it can be put on any web page."
      ], 
      "cell_type": "markdown", 
      "metadata": {}
    }, 
    {
      "execution_count": 17, 
      "cell_type": "code", 
      "source": [
        "fig.savefig(\"images/barchart.png\", transparent=True)"
      ], 
      "outputs": [], 
      "metadata": {}
    }, 
    {
      "source": [
        "and you can even set the background color to be different in matplotlib itself, by changing the face color of the figure, and then those of the axes.\n", 
        "\n", 
        "An incredible source to learn the ins and outs of @matplotlib is https://end-to-end-machine-learning.teachable.com/p/navigating-matplotlib-tutorial-how-to/ by @brohrer . I teach this stuff as well, as part of the Data Science courses at <Univ.Ai>."
      ], 
      "cell_type": "markdown", 
      "metadata": {}
    }, 
    {
      "execution_count": 18, 
      "cell_type": "code", 
      "source": [
        "fig, ax = plt.subplots(figsize = (8, 15), facecolor=\"pink\")\n", 
        "ax.set_facecolor(fig.get_facecolor())\n", 
        "# get pandas to plot inside the current axis\n", 
        "votesasc.plot.barh(ax=ax, alpha=0.7) \n", 
        "# (alpha sets the transparency)\n", 
        "# Set the title\n", 
        "ax.set_title(\"Electoral Votes by State\")\n", 
        "# remove both axis ticks\n", 
        "ax.tick_params(axis=\"both\",\n", 
        "               which='both', #major and minor ticks\n", 
        "               length=0) # set to 0\n", 
        "# get rid of labels in favor of annotations\n", 
        "ax.set_xticklabels([])\n", 
        "for idx, statename, evotes in zip(range(votesasc.shape[0]), \n", 
        "                                  votesasc.index, \n", 
        "                                  votesasc.values):\n", 
        "    # annotate with votes AFTER bar and at the index on y-axis\n", 
        "    ax.annotate(evotes, xy=(evotes + 1, idx), va='center')\n", 
        "# need to have something to replace x-axis ticks\n", 
        "# use a grid instead\n", 
        "ax.grid(axis = 'x', color ='white', linestyle='-')\n", 
        "# do we really need the spines?\n", 
        "ax.spines['right'].set_visible(False)\n", 
        "ax.spines['bottom'].set_visible(False)\n", 
        "ax.spines['top'].set_visible(False)\n", 
        "ax.spines['left'].set_visible(False)\n", 
        "# have more x-axis ticks for easier readoff\n", 
        "start, stop = ax.get_xlim()\n", 
        "ticks = np.arange(start, stop + 5, 5)\n", 
        "ax.set_xticks(ticks);\n", 
        "# Beautify\n", 
        "fig.tight_layout()"
      ], 
      "outputs": [], 
      "metadata": {}
    }, 
    {
      "execution_count": 19, 
      "cell_type": "code", 
      "source": [
        "fig.savefig(\"images/pinkbarchart.png\")"
      ], 
      "outputs": [], 
      "metadata": {}
    }
  ]
}